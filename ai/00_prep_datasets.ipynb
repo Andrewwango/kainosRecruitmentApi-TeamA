{
 "cells": [
  {
   "cell_type": "markdown",
   "id": "0619253e-d9a9-49aa-b6bd-67754f26615e",
   "metadata": {},
   "source": [
    "# 0. Data download and preparation"
   ]
  },
  {
   "cell_type": "markdown",
   "id": "e6dfe8f4-6c79-4b38-a1c1-085e1f431965",
   "metadata": {},
   "source": [
    "See next notebook for descriptions of datasets. \n",
    "\n",
    "After running commands move output dataset files to appropriate folders before preceeding to next notebook."
   ]
  },
  {
   "cell_type": "code",
   "execution_count": null,
   "id": "fee57b34-cdd2-4bbe-81da-58fc2a1824a7",
   "metadata": {},
   "outputs": [],
   "source": [
    "import pandas as pd\n",
    "from tqdm import tqdm"
   ]
  },
  {
   "cell_type": "markdown",
   "id": "19e0bc53-d846-4b3d-a3c0-5dc7a623b94a",
   "metadata": {},
   "source": [
    "## 0.1 Corpus datasets for training"
   ]
  },
  {
   "cell_type": "markdown",
   "id": "49d35ec8-3e03-4f54-85de-ce3468c75007",
   "metadata": {
    "tags": []
   },
   "source": [
    "### 0.1.1 Wikipedia:\n",
    "Download from [here](https://rlebret.github.io/wikipedia-biography-dataset/) and follow extraction instructions:"
   ]
  },
  {
   "cell_type": "code",
   "execution_count": null,
   "id": "3a38515c-d813-4e43-b9d3-c6978ce9c1ff",
   "metadata": {},
   "outputs": [],
   "source": [
    "!cat rlebret-wikipedia-biography-dataset-d0d6c78/wikipedia-biography-dataset.z?? > tmp.zip\n",
    "!unzip tmp.zip -d .\n",
    "!rm tmp.zip"
   ]
  },
  {
   "cell_type": "code",
   "execution_count": null,
   "id": "2e102144-1472-48e1-bad8-e06f9eb17b6e",
   "metadata": {},
   "outputs": [],
   "source": [
    "!cat ./wikipedia-biography-dataset/*/*.sent > data/corpus/dataset_wikibios.txt"
   ]
  },
  {
   "cell_type": "code",
   "execution_count": null,
   "id": "c6a6c98e-d2ab-4937-8f4c-cb6990cc5831",
   "metadata": {},
   "outputs": [],
   "source": [
    "!cat ./wikipedia-biography-dataset/*/*.nb > data/corpus/nb_wikibios.txt"
   ]
  },
  {
   "cell_type": "code",
   "execution_count": null,
   "id": "7acd2244-4e3f-45f3-a86e-51864b2a8d95",
   "metadata": {},
   "outputs": [],
   "source": [
    "with open(\"data/corpus/nb_wikibios.txt\", \"r\") as f:\n",
    "    nb = f.readlines()\n",
    "    nb = [int(i) for i in nb]\n",
    "print(len(nb), sum(nb))"
   ]
  },
  {
   "cell_type": "code",
   "execution_count": null,
   "id": "68ceaa28-72cb-49eb-9197-e6d530618fc0",
   "metadata": {},
   "outputs": [],
   "source": [
    "batch_sentences = []\n",
    "with open(\"data/corpus/dataset_wikibios.txt\", \"r\") as f:\n",
    "    for n in tqdm(nb):\n",
    "        batch_sentences.append(\" \".join([f.readline().strip() for _ in range(n)]))"
   ]
  },
  {
   "cell_type": "code",
   "execution_count": null,
   "id": "df40f236-48be-46ea-9547-12c01a9aaaf1",
   "metadata": {},
   "outputs": [],
   "source": [
    "with open('data/corpus/dataset_wikibios_merged.txt', 'w') as f:\n",
    "    for line in batch_sentences:\n",
    "        f.write(f\"{line}\\n\")"
   ]
  },
  {
   "cell_type": "markdown",
   "id": "3f61599e-39f5-46d5-a890-0248f279d0fc",
   "metadata": {},
   "source": [
    "### 0.1.2 Doughman dataset:\n",
    "Download from [here](https://github.com/jaddoughman/Gender-Bias-Datasets-Lexicons/blob/main/generic_pronouns/dataset.csv)"
   ]
  },
  {
   "cell_type": "code",
   "execution_count": null,
   "id": "226d78d5-d407-48c5-8b4a-fd5869e0644b",
   "metadata": {},
   "outputs": [],
   "source": [
    "dataset = pd.read_csv(\"https://raw.githubusercontent.com/jaddoughman/Gender-Bias-Datasets-Lexicons/main/generic_pronouns/dataset.csv\")\n",
    "# or dataset = pd.read_csv(\"dataset.csv\")"
   ]
  },
  {
   "cell_type": "code",
   "execution_count": null,
   "id": "58648ceb-09c7-4636-9154-2da4eabdd218",
   "metadata": {},
   "outputs": [],
   "source": [
    "dataset.to_csv(\"data/corpus/dataset_doughman.txt\", columns=[\"sentence\"], header=False, index=False)"
   ]
  },
  {
   "cell_type": "markdown",
   "id": "edbf22e1-15af-42da-a5f6-0e0996f24842",
   "metadata": {},
   "source": [
    "Extract \"Negative\" labels representing sterotypes/bias:"
   ]
  },
  {
   "cell_type": "code",
   "execution_count": null,
   "id": "10e3d46e-71b3-4844-bc5b-da7663f4b310",
   "metadata": {},
   "outputs": [],
   "source": [
    "df_neg = dataset[dataset[\"label\"] == \"Negative\"]"
   ]
  },
  {
   "cell_type": "code",
   "execution_count": null,
   "id": "f0a22a29-f756-44fd-ab11-51bf0b187ab1",
   "metadata": {},
   "outputs": [],
   "source": [
    "df_neg.to_csv(\"data/corpus/dataset_doughman_stereotype.txt\", columns=[\"sentence\"], header=False, index=False)"
   ]
  },
  {
   "cell_type": "markdown",
   "id": "7c85b1a1-741f-4d4c-a727-e4dae0db29aa",
   "metadata": {},
   "source": [
    "### 0.1.3 BUG dataset:\n",
    "Download from [here](https://github.com/SLAB-NLP/BUG) and extract"
   ]
  },
  {
   "cell_type": "code",
   "execution_count": null,
   "id": "8559d34f-d4fc-4b7e-b8f8-ededfb0ccfa0",
   "metadata": {},
   "outputs": [],
   "source": [
    "full_bug = pd.read_csv(\"BUG/data/full_BUG.csv\")"
   ]
  },
  {
   "cell_type": "code",
   "execution_count": null,
   "id": "9214645b-896b-4a73-b3c0-ad89623e31e9",
   "metadata": {},
   "outputs": [],
   "source": [
    "gold_bug = pd.read_csv(\"BUG/data/gold_BUG.csv\")"
   ]
  },
  {
   "cell_type": "code",
   "execution_count": null,
   "id": "c4596c1f-0b77-4fa4-a365-c8b80b81a9ed",
   "metadata": {},
   "outputs": [],
   "source": [
    "bug = pd.concat([full_bug, gold_bug])"
   ]
  },
  {
   "cell_type": "code",
   "execution_count": null,
   "id": "19005482-063b-4e27-82f1-027fe84cf5f2",
   "metadata": {},
   "outputs": [],
   "source": [
    "len(full_bug) + len(gold_bug), len(bug)"
   ]
  },
  {
   "cell_type": "code",
   "execution_count": null,
   "id": "d6f05321-99f7-4c20-8392-c0364ff20f53",
   "metadata": {},
   "outputs": [],
   "source": [
    "bug.to_csv(\"data/corpus/dataset_bug.txt\", columns=[\"sentence_text\"], header=False, index=False)"
   ]
  },
  {
   "cell_type": "code",
   "execution_count": null,
   "id": "c4d73797-d08f-4af8-8137-cde8a6b6e234",
   "metadata": {},
   "outputs": [],
   "source": [
    "bug[bug[\"stereotype\"] == 1].to_csv(\"data/corpus/dataset_bug_stereotype.txt\", columns=[\"sentence_text\"], header=False, index=False)"
   ]
  },
  {
   "cell_type": "markdown",
   "id": "ffacef27-7bf9-4178-996b-df66a257fec5",
   "metadata": {},
   "source": [
    "## 0.2 Lexicon datasets for testing"
   ]
  },
  {
   "cell_type": "markdown",
   "id": "20d59aac-e178-4fbd-8dd3-cb5c47a9e6e3",
   "metadata": {},
   "source": [
    "### 0.2.1 Test lexicon"
   ]
  },
  {
   "cell_type": "code",
   "execution_count": null,
   "id": "7756dcb7-c1b2-4882-a3d5-3a9e11ebb9f3",
   "metadata": {},
   "outputs": [],
   "source": [
    "%%writefile data/lexicons/test_lexicon.csv\n",
    "word,label\n",
    "he,1\n",
    "him,1\n",
    "his,1\n",
    "father,1\n",
    "fatherly,1\n",
    "male,1\n",
    "masculine,1\n",
    "man,1\n",
    "boy,1\n",
    "guy,1\n",
    "she,-1\n",
    "her,-1\n",
    "mother,-1\n",
    "motherly,-1\n",
    "female,-1\n",
    "feminine,-1\n",
    "woman,-1\n",
    "lady,-1\n",
    "girl,-1\n",
    "gal,-1\n",
    "they,0\n",
    "their,0\n",
    "experience,0\n",
    "grass,0\n",
    "animal,0\n",
    "car,0\n",
    "tree,0\n",
    "glass,0\n",
    "water,0\n",
    "banana,0"
   ]
  },
  {
   "cell_type": "markdown",
   "id": "8118589b-c4f0-42e2-add7-7914cd328eac",
   "metadata": {},
   "source": [
    "### 0.2.2 \"Bias\" lexicon from psychology + sociology papers"
   ]
  },
  {
   "cell_type": "code",
   "execution_count": null,
   "id": "38449fef-f504-4c8f-ae72-c9fbbb0c1432",
   "metadata": {},
   "outputs": [],
   "source": [
    "%%writefile data/lexicons/bias_lexicon.csv\n",
    "word,label\n",
    "active,1\n",
    "adventurous,1\n",
    "aggressive,1\n",
    "ambitious,1\n",
    "analytical,1\n",
    "assertive,1\n",
    "athletic,1\n",
    "autonomous,1\n",
    "battle,1\n",
    "boast,1\n",
    "challenge,1\n",
    "champion,1\n",
    "competitive,1\n",
    "confident,1\n",
    "courageous,1\n",
    "decide,1\n",
    "decision,1\n",
    "decisive,1\n",
    "defend,1\n",
    "determined,1\n",
    "dominate,1\n",
    "dominant,1\n",
    "driven,1\n",
    "fearless,1\n",
    "fight,1\n",
    "force,1\n",
    "greedy,1\n",
    "headstrong,1\n",
    "hierarchy,1\n",
    "hostile,1\n",
    "impulsive,1\n",
    "independent,1\n",
    "individual,1\n",
    "individualistic,1\n",
    "intellectual,1\n",
    "lead,1\n",
    "logical,1\n",
    "objective,1\n",
    "opinion,1\n",
    "outspoken,1\n",
    "persist,1\n",
    "principle,1\n",
    "reckless,1\n",
    "self-confident,1\n",
    "self-reliant,1\n",
    "self-sufficient,1\n",
    "defensive,1\n",
    "assert,1\n",
    "challenging,1\n",
    "stubborn,1\n",
    "superior,1\n",
    "unreasonable,1\n",
    "agree,-1\n",
    "affectionate,-1\n",
    "caring,-1\n",
    "child,-1\n",
    "childlike,-1\n",
    "cheery,-1\n",
    "cheerful,-1\n",
    "collaborative,-1\n",
    "committed,-1\n",
    "communal,-1\n",
    "compassionate,-1\n",
    "connected,-1\n",
    "considerate,-1\n",
    "cooperative,-1\n",
    "co-operative,-1\n",
    "depend,-1\n",
    "emotional,-1\n",
    "empathetic,-1\n",
    "feeling,-1\n",
    "gentle,-1\n",
    "honest,-1\n",
    "interpersonal,-1\n",
    "interdependent,-1\n",
    "interpersonal,-1\n",
    "responsive,-1\n",
    "supporting,-1\n",
    "trusted,-1\n",
    "kind,-1\n",
    "kinship,-1\n",
    "loyal,-1\n",
    "modesty,-1\n",
    "nagging,-1\n",
    "nurture,-1\n",
    "pleasant,-1\n",
    "polite,-1\n",
    "quiet,-1\n",
    "respond,-1\n",
    "sensitive,-1\n",
    "submissive,-1\n",
    "support,-1\n",
    "sympathetic,-1\n",
    "tender,-1\n",
    "together,-1\n",
    "trust,-1\n",
    "understand,-1\n",
    "warm,-1\n",
    "whine,-1\n",
    "enthusiastic,-1\n",
    "inclusive,-1\n",
    "yielding,-1\n",
    "share,-1\n",
    "sharing,-1\n",
    "adaptive,0\n",
    "adaptable,0\n",
    "authentic,0\n",
    "available,0\n",
    "availability,0\n",
    "clear,0\n",
    "concise,0\n",
    "conscientious,0\n",
    "conventional,0\n",
    "courteous,0\n",
    "curious,0\n",
    "curiosity,0\n",
    "delightful,0\n",
    "easy,0\n",
    "engaged,0\n",
    "experienced,0\n",
    "experience,0\n",
    "fair,0\n",
    "flexible,0\n",
    "flexibility,0\n",
    "frank,0\n",
    "friendly,0\n",
    "global,0\n",
    "good,0\n",
    "happy,0\n",
    "helpful,0\n",
    "help,0\n",
    "inefficient,0\n",
    "integrity,0\n",
    "likable,0\n",
    "likeable,0\n",
    "literate,0\n",
    "literacy,0\n",
    "objective,0\n",
    "open,0\n",
    "perseverance,0\n",
    "persistent,0\n",
    "planning,0\n",
    "professionally,0\n",
    "punctual,0\n",
    "qualified,0\n",
    "reassure,0\n",
    "reliable,0\n",
    "respect,0\n",
    "respectful,0\n",
    "responsive,0\n",
    "rewarding,0\n",
    "simple,0\n",
    "sincere,0\n",
    "tactful,0\n",
    "tenacious,0\n",
    "tenaciousness,0\n",
    "reassurance,0\n",
    "repetitive,0"
   ]
  },
  {
   "cell_type": "code",
   "execution_count": null,
   "id": "7ee552db-b0b4-4d7b-b114-ef2237467e24",
   "metadata": {},
   "outputs": [],
   "source": []
  }
 ],
 "metadata": {
  "kernelspec": {
   "display_name": "Python 3 (ipykernel)",
   "language": "python",
   "name": "python3"
  },
  "language_info": {
   "codemirror_mode": {
    "name": "ipython",
    "version": 3
   },
   "file_extension": ".py",
   "mimetype": "text/x-python",
   "name": "python",
   "nbconvert_exporter": "python",
   "pygments_lexer": "ipython3",
   "version": "3.10.4"
  }
 },
 "nbformat": 4,
 "nbformat_minor": 5
}
