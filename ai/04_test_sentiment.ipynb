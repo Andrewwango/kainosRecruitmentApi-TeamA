{
 "cells": [
  {
   "cell_type": "markdown",
   "id": "68089582-27df-41c7-bbb2-ec4a085587ef",
   "metadata": {},
   "source": [
    "# 4. Sentiment and subjectivity analysis of text"
   ]
  },
  {
   "cell_type": "markdown",
   "id": "d236e54c-dfe1-4195-9382-022469ca1e02",
   "metadata": {},
   "source": [
    "The following function uses `TextBlob`'s built-in pretrained sentiment analyser, which is explained [here](https://towardsdatascience.com/the-most-favorable-pre-trained-sentiment-classifiers-in-python-9107c06442c6). Use to recover sentiment and subjectivity descriptors and optionally raw scores (sentiment: -1=negative, 1=positive; subjectivity: 0=objective, 1=subjective)"
   ]
  },
  {
   "cell_type": "code",
   "execution_count": 1,
   "id": "46e92e48-101a-4195-9c0c-d0d188cd28d1",
   "metadata": {},
   "outputs": [],
   "source": [
    "from api import score_document_sentiment_subjectivity"
   ]
  },
  {
   "cell_type": "code",
   "execution_count": 2,
   "id": "e9e84283-371b-4fe8-8406-5ed00d4612d9",
   "metadata": {},
   "outputs": [
    {
     "data": {
      "text/plain": [
       "{'sentiment': 'Very negative', 'subjectivity': 'Subjective'}"
      ]
     },
     "execution_count": 2,
     "metadata": {},
     "output_type": "execute_result"
    }
   ],
   "source": [
    "document = \"I really hate this computer, I think it's very bad.\"\n",
    "score_document_sentiment_subjectivity(document)"
   ]
  },
  {
   "cell_type": "code",
   "execution_count": 3,
   "id": "ccc80a77-66a6-4856-a627-434036bc7af7",
   "metadata": {},
   "outputs": [
    {
     "data": {
      "text/plain": [
       "{'sentiment': 'Neutral', 'subjectivity': 'Objective'}"
      ]
     },
     "execution_count": 3,
     "metadata": {},
     "output_type": "execute_result"
    }
   ],
   "source": [
    "document = \"The employment rate is factually correct.\"\n",
    "score_document_sentiment_subjectivity(document)"
   ]
  },
  {
   "cell_type": "code",
   "execution_count": 4,
   "id": "cc998507-576d-44a8-a24d-8d050c0f559b",
   "metadata": {},
   "outputs": [],
   "source": [
    "with open(\"data/corpus/dataset_BUG.txt\", \"r\") as f:\n",
    "    documents = f.read().splitlines()"
   ]
  },
  {
   "cell_type": "code",
   "execution_count": 5,
   "id": "ec495a5f-5c20-4eb8-9453-f8f20e6b8a00",
   "metadata": {},
   "outputs": [
    {
     "name": "stdout",
     "output_type": "stream",
     "text": [
      "The patient was successfully taken off mechanical ventilation 30 days after her first day of admission .\n"
     ]
    },
    {
     "data": {
      "text/plain": [
       "{'sentiment': 'Positive', 'subjectivity': 'Neutral'}"
      ]
     },
     "execution_count": 5,
     "metadata": {},
     "output_type": "execute_result"
    }
   ],
   "source": [
    "document = documents[51]\n",
    "print(document)\n",
    "score_document_sentiment_subjectivity(document)"
   ]
  },
  {
   "cell_type": "code",
   "execution_count": 6,
   "id": "51fe5609-c945-48b9-8063-492e1d66236a",
   "metadata": {},
   "outputs": [
    {
     "data": {
      "text/plain": [
       "{'sentiment': ['Positive', 0.5],\n",
       " 'subjectivity': ['Neutral', 0.6416666666666666]}"
      ]
     },
     "execution_count": 6,
     "metadata": {},
     "output_type": "execute_result"
    }
   ],
   "source": [
    "score_document_sentiment_subjectivity(document, return_scores=True)"
   ]
  }
 ],
 "metadata": {
  "kernelspec": {
   "display_name": "Python 3 (ipykernel)",
   "language": "python",
   "name": "python3"
  },
  "language_info": {
   "codemirror_mode": {
    "name": "ipython",
    "version": 3
   },
   "file_extension": ".py",
   "mimetype": "text/x-python",
   "name": "python",
   "nbconvert_exporter": "python",
   "pygments_lexer": "ipython3",
   "version": "3.10.4"
  }
 },
 "nbformat": 4,
 "nbformat_minor": 5
}
