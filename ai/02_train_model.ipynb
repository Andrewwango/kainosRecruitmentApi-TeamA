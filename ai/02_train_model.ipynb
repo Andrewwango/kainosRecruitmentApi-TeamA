{
 "cells": [
  {
   "cell_type": "markdown",
   "id": "c3dca113-8ddc-4141-a143-4732b40d8a0e",
   "metadata": {},
   "source": [
    "# 2. Word embedding model training\n",
    "\n",
    "Following approach in [tutorial](https://rare-technologies.com/word2vec-tutorial/)."
   ]
  },
  {
   "cell_type": "code",
   "execution_count": 1,
   "id": "433dd5e4-6c97-4e63-91a7-04e18bfdd8ea",
   "metadata": {},
   "outputs": [],
   "source": [
    "from gensim.parsing.preprocessing import remove_stopword_tokens"
   ]
  },
  {
   "cell_type": "code",
   "execution_count": 29,
   "id": "3571ce83-bca6-4298-9d27-0d1d0245c8e7",
   "metadata": {},
   "outputs": [],
   "source": [
    "STOPWORDS = \"\"\"\n",
    "a about above across after afterwards again against all almost alone along already also although always am among amongst amoungst amount an and another any anyhow anyone anything anyway anywhere are around as at back be\n",
    "became because become becomes becoming been before beforehand behind being below beside besides between beyond bill both bottom but by call can\n",
    "cannot cant co computer con could couldnt cry de describe\n",
    "detail did didn do does doesn doing don done down due during\n",
    "each eg eight either eleven else elsewhere empty enough etc even ever every everyone everything everywhere except few fifteen\n",
    "fify fill find fire first five for former formerly forty found four from front full further get give go\n",
    "had has hasnt have he hence her here hereafter hereby herein hereupon hers herself him himself his how however hundred i ie\n",
    "if in inc indeed interest into is it its itself keep last latter latterly least less ltd\n",
    "just\n",
    "kg km\n",
    "made make many may me meanwhile might mill mine more moreover most mostly move much must my myself name namely\n",
    "neither never nevertheless next nine no nobody none noone nor not nothing now nowhere of off\n",
    "often on once one only onto or other others otherwise our ours ourselves out over own part per\n",
    "perhaps please put rather re\n",
    "quite\n",
    "rather really regarding\n",
    "same say see seem seemed seeming seems serious several she should show side since sincere six sixty so some somehow someone something sometime sometimes somewhere still such system take ten\n",
    "than that the their them themselves then thence there thereafter thereby therefore therein thereupon these they thick thin third this those though three through throughout thru thus to together too top toward towards twelve twenty two un under\n",
    "until up unless upon us used using\n",
    "various very very via\n",
    "was we well were what whatever when whence whenever where whereafter whereas whereby wherein whereupon wherever whether which while whither who whoever whole whom whose why will with within without would yet you\n",
    "your yours yourself yourselves\n",
    "\n",
    "lrb rrb lcb rcb lsb rsb\n",
    "\"\"\"\n",
    "STOPWORDS = frozenset(w for w in STOPWORDS.split() if w)\n",
    "# TODO: remove removal of good stopwords (e.g. he) "
   ]
  },
  {
   "cell_type": "code",
   "execution_count": 30,
   "id": "5e6097e1-68ac-4870-a7ce-5ecab0c8b832",
   "metadata": {},
   "outputs": [],
   "source": [
    "from gensim.test.utils import datapath\n",
    "from gensim import utils\n",
    "\n",
    "class TrainingCorpus:\n",
    "    def __iter__(self):\n",
    "        corpus_path = datapath('/Users/andrew.wang/Documents/academy/project/kainosRecruitmentApi-TeamA/ai/data/corpus/dataset_wikibios_merged.txt')\n",
    "        for line in open(corpus_path):\n",
    "            # assume there's one document per line, tokens separated by whitespace\n",
    "            tokens = utils.simple_preprocess(line)\n",
    "            tokens = remove_stopword_tokens(tokens, stopwords=STOPWORDS)\n",
    "            yield tokens"
   ]
  },
  {
   "cell_type": "markdown",
   "id": "3529286b-f72e-4ee2-825e-b434ee035afc",
   "metadata": {},
   "source": [
    "Test tokenizer"
   ]
  },
  {
   "cell_type": "code",
   "execution_count": 31,
   "id": "d315223a-af77-40a2-9aa5-7ad5fb60fa9d",
   "metadata": {},
   "outputs": [
    {
     "name": "stdout",
     "output_type": "stream",
     "text": [
      "['leonard', 'shenoff', 'randle', 'born', 'february', 'major', 'league', 'baseball', 'player', 'round', 'pick', 'washington', 'senators', 'secondary', 'phase', 'june', 'major', 'league', 'baseball', 'draft', 'tenth', 'overall']\n",
      "['philippe', 'adnot', 'born', 'august', 'rhèges', 'member', 'senate', 'france', 'elected', 'represents', 'aube', 'department', 'farmer', 'profession', 'serves', 'independent', 'serves', 'head', 'general', 'council', 'aube', 'elected', 'represent', 'canton', 'méry', 'sur', 'seine', 'elected', 'senate', 'round', 'avoiding', 'need', 'run', 'vote', 'having', 'contributed', 'creation', 'university', 'technology', 'troyes', 'vice', 'president', 'university', 'board', 'currently', 'president', 'member', 'senate', 'committee', 'laws', 'relating', 'freedoms', 'universities', 'serves', 'delegate', 'administrative', 'meeting', 'senators', 'list', 'group', 'decorated', 'chevalier', 'ordre', 'national', 'mérite', 'agricole']\n",
      "['miroslav', 'popov', 'born', 'june', 'dvůr', 'králové', 'nad', 'labem', 'czech', 'grand', 'prix', 'motorcycle', 'racer', 'currently', 'races', 'fim', 'cev', 'moto', 'championship', 'montaze', 'broz', 'racing', 'team', 'aboard', 'suter']\n",
      "['john', 'jack', 'reynolds', 'february', 'march', 'footballer', 'played', 'west', 'bromwich', 'albion', 'aston', 'villa', 'celtic', 'international', 'played', 'times', 'ireland', 'emerged', 'actually', 'english', 'subsequently', 'played', 'times', 'england', 'player', 'barring', 'goals', 'score', 'england', 'player', 'play', 'ireland', 'england', 'won', 'fa', 'cup', 'west', 'bromwich', 'albion', 'prominent', 'member', 'successful', 'aston', 'villa', 'team', 'winning', 'english', 'league', 'titles', 'fa', 'cups', 'including', 'double', 'reynolds', 'noted', 'highly', 'competitive', 'player', 'remarkable', 'ball', 'skills', 'exceptionally', 'brilliant', 'footwork', 'regarded', 'great', 'footballers', 'highest', 'paid', 'players', 'generation', 'gained', 'reputation', 'drinking', 'womanising', 'result', 'money', 'earned', 'disappeared', 'fathered', 'illegitimate', 'child', 'appeared', 'court', 'non', 'payment', 'child', 'maintenance', 'heavy', 'drinking', 'blighted', 'career', 'brief', 'spells', 'celtic', 'southampton', 'semi', 'professional', 'journeyman', 'end', 'life', 'worked', 'miner', 'sheffield', 'died', 'boarding', 'house', 'age', 'reynolds', 'career', 'subject', 'lectures', 'including', 'entitled', 'play', 'football', 'win', 'friends', 'die', 'young', 'life', 'john', 'reynolds', 'given', 'dr', 'neal', 'garnham', 'university', 'ulster']\n",
      "['william', 'ato', 'ankrah', 'born', 'th', 'july', 'better', 'known', 'stage', 'akoo', 'nana', 'hiplife', 'musician', 'ghana', 'making', 'large', 'impact', 'africa', 'hiplife', 'scene', 'authentic', 'sounding', 'music', 'captivating', 'stage', 'craft']\n",
      "['teoctist', 'born', 'toader', 'arăpașu', 'february', 'july', 'patriarch', 'romanian', 'orthodox', 'church', 'teoctist', 'served', 'years', 'patriarch', 'romanian', 'communist', 'regime', 'accused', 'collaboration', 'offered', 'resignation', 'romanian', 'revolution', 'soon', 'restored', 'office', 'served', 'years', 'promoter', 'ecumenical', 'dialogue', 'patriarch', 'teoctist', 'invited', 'pope', 'john', 'paul', 'ii', 'visit', 'romania', 'visit', 'pope', 'predominantly', 'eastern', 'orthodox', 'country', 'east', 'west', 'schism']\n"
     ]
    }
   ],
   "source": [
    "corpus = TrainingCorpus()\n",
    "for i,sentence in enumerate(corpus):\n",
    "    print(sentence)\n",
    "    if i==5: break"
   ]
  },
  {
   "cell_type": "code",
   "execution_count": null,
   "id": "82e6ab3f-15ca-4227-9102-3d8abc00a7ae",
   "metadata": {},
   "outputs": [],
   "source": [
    "remove numbers, punctuation, stop words and lemmatize?"
   ]
  },
  {
   "cell_type": "code",
   "execution_count": null,
   "id": "8096a6f2-a70a-4dc6-a289-e90a71f112fb",
   "metadata": {},
   "outputs": [],
   "source": [
    "import gensim.models\n",
    "\n",
    "sentences = MyCorpus()\n",
    "model = gensim.models.Word2Vec(sentences=sentences, workers=4)"
   ]
  },
  {
   "cell_type": "code",
   "execution_count": null,
   "id": "e3626ffd-814e-413a-9ac4-8dd413f1807d",
   "metadata": {},
   "outputs": [],
   "source": [
    "import tempfile\n",
    "\n",
    "with tempfile.NamedTemporaryFile(prefix='gensim-model-', delete=False) as tmp:\n",
    "    temporary_filepath = tmp.name\n",
    "    model.save(temporary_filepath)\n",
    "    #\n",
    "    # The model is now safely stored in the filepath.\n",
    "    # You can copy it to other machines, share it with others, etc.\n",
    "    #\n",
    "    # To load a saved model:\n",
    "    #\n",
    "    new_model = gensim.models.Word2Vec.load(temporary_filepath)"
   ]
  }
 ],
 "metadata": {
  "kernelspec": {
   "display_name": "Python 3 (ipykernel)",
   "language": "python",
   "name": "python3"
  },
  "language_info": {
   "codemirror_mode": {
    "name": "ipython",
    "version": 3
   },
   "file_extension": ".py",
   "mimetype": "text/x-python",
   "name": "python",
   "nbconvert_exporter": "python",
   "pygments_lexer": "ipython3",
   "version": "3.10.4"
  }
 },
 "nbformat": 4,
 "nbformat_minor": 5
}
