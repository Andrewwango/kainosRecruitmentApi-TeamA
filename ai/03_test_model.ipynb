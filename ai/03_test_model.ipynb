{
 "cells": [
  {
   "cell_type": "markdown",
   "id": "c06755a3-3713-46a2-b0dc-01ecf4688959",
   "metadata": {},
   "source": [
    "# 3. Test model"
   ]
  },
  {
   "cell_type": "code",
   "execution_count": null,
   "id": "ef1454a5-e9e1-4bfa-ba62-5d81d18a1e04",
   "metadata": {},
   "outputs": [],
   "source": []
  },
  {
   "cell_type": "code",
   "execution_count": null,
   "id": "2d0bca82-286b-451d-a292-2a44b59a292f",
   "metadata": {},
   "outputs": [],
   "source": []
  },
  {
   "cell_type": "markdown",
   "id": "38b4264b-16c4-4943-b075-14452538650e",
   "metadata": {},
   "source": [
    "Testing on lexicons to find best embedding models (requires making full lexicons)"
   ]
  },
  {
   "cell_type": "code",
   "execution_count": null,
   "id": "908fc029-ecdd-45ca-815b-1ce2de395a22",
   "metadata": {},
   "outputs": [],
   "source": []
  },
  {
   "cell_type": "markdown",
   "id": "1993a4a1-d067-4d37-a506-20974e85ce34",
   "metadata": {},
   "source": [
    "Function to output document score and highlight biased words (1/-1). This function will be referred to by `api.py`. This is urgent TODO, do with pretrained model for now"
   ]
  },
  {
   "cell_type": "code",
   "execution_count": null,
   "id": "b72431e8-287d-4222-8869-2c5b12c6477c",
   "metadata": {},
   "outputs": [],
   "source": []
  },
  {
   "cell_type": "markdown",
   "id": "fc0aa55f-3a3a-4cea-be02-f484cbb9882e",
   "metadata": {},
   "source": []
  },
  {
   "cell_type": "code",
   "execution_count": null,
   "id": "e53b5423-6e2d-4a0b-86f0-ef31649227e9",
   "metadata": {},
   "outputs": [],
   "source": []
  }
 ],
 "metadata": {
  "kernelspec": {
   "display_name": "Python 3 (ipykernel)",
   "language": "python",
   "name": "python3"
  },
  "language_info": {
   "codemirror_mode": {
    "name": "ipython",
    "version": 3
   },
   "file_extension": ".py",
   "mimetype": "text/x-python",
   "name": "python",
   "nbconvert_exporter": "python",
   "pygments_lexer": "ipython3",
   "version": "3.10.4"
  }
 },
 "nbformat": 4,
 "nbformat_minor": 5
}
