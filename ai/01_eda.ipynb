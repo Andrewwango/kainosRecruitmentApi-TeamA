{
 "cells": [
  {
   "cell_type": "markdown",
   "id": "b56fdff1-5ad2-4e72-9e2d-f1986088a75f",
   "metadata": {},
   "source": [
    "# 1. Description of datasets and EDA"
   ]
  },
  {
   "cell_type": "code",
   "execution_count": 2,
   "id": "ea185f34-4fa3-465f-9ff2-e1014bb39aed",
   "metadata": {},
   "outputs": [],
   "source": [
    "import pandas as pd"
   ]
  },
  {
   "cell_type": "markdown",
   "id": "7ee81243-d64b-4733-a94f-057c1fe25939",
   "metadata": {},
   "source": [
    "## 1.1 Corpus datasets for training"
   ]
  },
  {
   "cell_type": "markdown",
   "id": "8794cbcc-4c62-41c5-afeb-50c1bbb95a71",
   "metadata": {},
   "source": [
    "The \"corpus\" datasets are used to train word embedding models (i.e. unsupervised learning) to be able to get vectors representing words. The similarity of vectors then represent semantic association of words in the corpus. The corpuses are \"from the wild\" and should include examples of societal bias."
   ]
  },
  {
   "cell_type": "markdown",
   "id": "bd793e1e-20ad-46ab-a234-053eda8a25b8",
   "metadata": {},
   "source": [
    "### 1.1.1 [BUG dataset](https://github.com/SLAB-NLP/BUG/blob/main/data.tar.gz) from the [paper](https://arxiv.org/pdf/2109.03858.pdf ):"
   ]
  },
  {
   "cell_type": "code",
   "execution_count": 3,
   "id": "83129133-b040-42f5-9869-3b2cdaf7e2d5",
   "metadata": {},
   "outputs": [
    {
     "name": "stdout",
     "output_type": "stream",
     "text": [
      "\"Patient number 2 was isolated with his wife that had been diagnosed with SARS-CoV-2 infection , with similar lesions that patient number 1 .\"\n",
      "\n"
     ]
    }
   ],
   "source": [
    "with open(\"data/corpus/dataset_BUG.txt\", \"r\") as f:\n",
    "    print(f.readline())"
   ]
  },
  {
   "cell_type": "markdown",
   "id": "7d2d13e0-6152-4a95-ba99-7b5bc514a627",
   "metadata": {},
   "source": [
    "### 1.1.2 [Doughman et al. dataset](https://github.com/jaddoughman/Gender-Bias-Datasets-Lexicons/blob/main/generic_pronouns/dataset.csv) from the [paper](https://arxiv.org/pdf/2201.08675.pdf): rename to `doughman_dataset.csv`"
   ]
  },
  {
   "cell_type": "code",
   "execution_count": 4,
   "id": "75da775d-9f78-4b1c-aa46-6677cbbc30c2",
   "metadata": {},
   "outputs": [
    {
     "name": "stdout",
     "output_type": "stream",
     "text": [
      "\"( all these are being observed , recorded by a rhymist by his/her deep thoughts and observations).\"\n",
      "\n"
     ]
    }
   ],
   "source": [
    "with open(\"data/corpus/dataset_doughman.txt\", \"r\") as f:\n",
    "    print(f.readline())"
   ]
  },
  {
   "cell_type": "markdown",
   "id": "77947c1f-a7ab-4451-9b1a-9a781c94db57",
   "metadata": {},
   "source": [
    "### 1.1.3 [Wikipedia biographies](https://rlebret.github.io/wikipedia-biography-dataset/) dataset originally for text generation."
   ]
  },
  {
   "cell_type": "code",
   "execution_count": 5,
   "id": "2a953f8f-16c8-463d-bbeb-449efebd302a",
   "metadata": {},
   "outputs": [
    {
     "name": "stdout",
     "output_type": "stream",
     "text": [
      "leonard shenoff randle -lrb- born february 12 , 1949 -rrb- is a former major league baseball player .\n",
      "\n"
     ]
    }
   ],
   "source": [
    "with open(\"data/corpus/dataset_wikibios.txt\", \"r\") as f:\n",
    "    print(f.readline())"
   ]
  },
  {
   "cell_type": "markdown",
   "id": "9221b30f-8587-4be1-887a-93226f9e52e9",
   "metadata": {},
   "source": [
    "## 1.2 Lexicon datasets for testing"
   ]
  },
  {
   "cell_type": "markdown",
   "id": "f1e8f74f-4444-4781-80c9-c3d777715137",
   "metadata": {},
   "source": [
    "The \"lexicon\" datasets are used to test the inferred vectors embedding certain words. We expect that gender-bias associated words from psychological/sociological studies to be close to gendered words in the learnt vector representations."
   ]
  },
  {
   "cell_type": "markdown",
   "id": "01596fe1-ce7b-4933-bb37-2fc45e2ed6b7",
   "metadata": {},
   "source": [
    "Note that in all cases, 1 represents male bias, -1 represents female bias, 0 represents neutral/no bias."
   ]
  },
  {
   "cell_type": "markdown",
   "id": "c91edb5f-3229-406b-b7d7-8ab21028af08",
   "metadata": {},
   "source": [
    "### 1.2.1 Test lexicon\n",
    "The first lexicon is a pure test-accuracy lexicon, to see if definitely gendered words and definitely un-gendered words are correctly classified."
   ]
  },
  {
   "cell_type": "code",
   "execution_count": 6,
   "id": "cfaf1997-3385-45ff-8ba4-c19d4fa864e6",
   "metadata": {},
   "outputs": [
    {
     "data": {
      "text/html": [
       "<div>\n",
       "<style scoped>\n",
       "    .dataframe tbody tr th:only-of-type {\n",
       "        vertical-align: middle;\n",
       "    }\n",
       "\n",
       "    .dataframe tbody tr th {\n",
       "        vertical-align: top;\n",
       "    }\n",
       "\n",
       "    .dataframe thead th {\n",
       "        text-align: right;\n",
       "    }\n",
       "</style>\n",
       "<table border=\"1\" class=\"dataframe\">\n",
       "  <thead>\n",
       "    <tr style=\"text-align: right;\">\n",
       "      <th></th>\n",
       "      <th>word</th>\n",
       "      <th>label</th>\n",
       "    </tr>\n",
       "  </thead>\n",
       "  <tbody>\n",
       "    <tr>\n",
       "      <th>0</th>\n",
       "      <td>he</td>\n",
       "      <td>1</td>\n",
       "    </tr>\n",
       "    <tr>\n",
       "      <th>1</th>\n",
       "      <td>him</td>\n",
       "      <td>1</td>\n",
       "    </tr>\n",
       "    <tr>\n",
       "      <th>2</th>\n",
       "      <td>father</td>\n",
       "      <td>1</td>\n",
       "    </tr>\n",
       "    <tr>\n",
       "      <th>3</th>\n",
       "      <td>fatherly</td>\n",
       "      <td>1</td>\n",
       "    </tr>\n",
       "    <tr>\n",
       "      <th>4</th>\n",
       "      <td>male</td>\n",
       "      <td>1</td>\n",
       "    </tr>\n",
       "  </tbody>\n",
       "</table>\n",
       "</div>"
      ],
      "text/plain": [
       "       word  label\n",
       "0        he      1\n",
       "1       him      1\n",
       "2    father      1\n",
       "3  fatherly      1\n",
       "4      male      1"
      ]
     },
     "execution_count": 6,
     "metadata": {},
     "output_type": "execute_result"
    }
   ],
   "source": [
    "pd.read_csv(\"data/lexicons/test_lexicon.csv\").head()"
   ]
  },
  {
   "cell_type": "markdown",
   "id": "8b0a840b-07db-49fe-947b-93cde44bf4c0",
   "metadata": {},
   "source": [
    "### 1.2.2 \"Bias\" lexicon\n",
    "The second lexicon comes from the Gaucher et al. and Konnikov et al. papers and represent job advert words associated with gender bias and gender non-bias."
   ]
  },
  {
   "cell_type": "code",
   "execution_count": 7,
   "id": "8c0860b1-e5b3-4c9b-a4b3-5cb15b5cd75f",
   "metadata": {},
   "outputs": [
    {
     "data": {
      "text/html": [
       "<div>\n",
       "<style scoped>\n",
       "    .dataframe tbody tr th:only-of-type {\n",
       "        vertical-align: middle;\n",
       "    }\n",
       "\n",
       "    .dataframe tbody tr th {\n",
       "        vertical-align: top;\n",
       "    }\n",
       "\n",
       "    .dataframe thead th {\n",
       "        text-align: right;\n",
       "    }\n",
       "</style>\n",
       "<table border=\"1\" class=\"dataframe\">\n",
       "  <thead>\n",
       "    <tr style=\"text-align: right;\">\n",
       "      <th></th>\n",
       "      <th>word</th>\n",
       "      <th>label</th>\n",
       "    </tr>\n",
       "  </thead>\n",
       "  <tbody>\n",
       "    <tr>\n",
       "      <th>0</th>\n",
       "      <td>active</td>\n",
       "      <td>1</td>\n",
       "    </tr>\n",
       "    <tr>\n",
       "      <th>1</th>\n",
       "      <td>adventurous</td>\n",
       "      <td>1</td>\n",
       "    </tr>\n",
       "    <tr>\n",
       "      <th>2</th>\n",
       "      <td>aggressive</td>\n",
       "      <td>1</td>\n",
       "    </tr>\n",
       "    <tr>\n",
       "      <th>3</th>\n",
       "      <td>ambitious</td>\n",
       "      <td>1</td>\n",
       "    </tr>\n",
       "    <tr>\n",
       "      <th>4</th>\n",
       "      <td>analytical</td>\n",
       "      <td>1</td>\n",
       "    </tr>\n",
       "  </tbody>\n",
       "</table>\n",
       "</div>"
      ],
      "text/plain": [
       "          word  label\n",
       "0       active      1\n",
       "1  adventurous      1\n",
       "2   aggressive      1\n",
       "3    ambitious      1\n",
       "4   analytical      1"
      ]
     },
     "execution_count": 7,
     "metadata": {},
     "output_type": "execute_result"
    }
   ],
   "source": [
    "pd.read_csv(\"data/lexicons/bias_lexicon.csv\").head()"
   ]
  },
  {
   "cell_type": "code",
   "execution_count": null,
   "id": "de3f46a6-448f-4ab3-aedc-41ae73a24d75",
   "metadata": {},
   "outputs": [],
   "source": []
  }
 ],
 "metadata": {
  "kernelspec": {
   "display_name": "Python 3 (ipykernel)",
   "language": "python",
   "name": "python3"
  },
  "language_info": {
   "codemirror_mode": {
    "name": "ipython",
    "version": 3
   },
   "file_extension": ".py",
   "mimetype": "text/x-python",
   "name": "python",
   "nbconvert_exporter": "python",
   "pygments_lexer": "ipython3",
   "version": "3.10.4"
  }
 },
 "nbformat": 4,
 "nbformat_minor": 5
}
